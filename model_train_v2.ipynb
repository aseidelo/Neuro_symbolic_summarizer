{
 "cells": [
  {
   "cell_type": "code",
   "execution_count": 1,
   "metadata": {},
   "outputs": [],
   "source": [
    "import matplotlib.pyplot as plt\n",
    "import numpy as np\n",
    "import tensorflow as tf\n",
    "physical_devices = tf.config.list_physical_devices('GPU')\n",
    "tf.config.experimental.set_memory_growth(physical_devices[0], enable=True)\n",
    "from tensorflow.keras.layers.experimental.preprocessing import TextVectorization\n",
    "from tensorflow.keras.layers import Input, Embedding, LSTM, GRU, Bidirectional, Concatenate, Softmax\n",
    "import time\n",
    "import pandas as pd\n",
    "import os\n",
    "import tqdm\n",
    "import gensim.downloader\n",
    "from sklearn.model_selection import train_test_split"
   ]
  },
  {
   "cell_type": "code",
   "execution_count": 2,
   "metadata": {},
   "outputs": [],
   "source": [
    "def load_dataset(shard_ids):\n",
    "    path = 'wikisum-en/nl2sl/web-only_v3/'\n",
    "    x_files = []\n",
    "    y_files = []\n",
    "    title_files = []\n",
    "    for shard_id in shard_ids:\n",
    "        x_files.append(\"{}inputs.txt-{:05d}-of-01000\".format(path, shard_id))\n",
    "        y_files.append(\"{}outputs.txt-{:05d}-of-01000\".format(path, shard_id))\n",
    "        title_files.append(\"{}titles.txt-{:05d}-of-01000\".format(path, shard_id))\n",
    "    x = []\n",
    "    y = []\n",
    "    titles = []\n",
    "    for i in range(len(x_files)):\n",
    "        with open(x_files[i], 'r') as x_file:\n",
    "            for line in x_file:\n",
    "                x.append(line)\n",
    "        with open(y_files[i], 'r') as y_file:\n",
    "            for line in y_file:\n",
    "                y.append(line)\n",
    "        with open(title_files[i], 'r') as title_file:\n",
    "            for line in title_file:\n",
    "                titles.append(line)\n",
    "    return x[:-1], y[:-1], titles[:-1]\n",
    "\n",
    "\n",
    "dataset_shard_ids = [0]# i for i in range(45)]#0, 1, 2, 3, 4, 5, 6, 7, 8, 9, 10, 11, 12, 13, 14, 15, 16, 17, 18, 19, 20, 21, 22, 23, 24, 25]#, 1, 2, 3, 4, 5]\n",
    "#val_shard_ids = [18, 19, 20]\n",
    "natural_language_data, structured_langague_data, titles = load_dataset(dataset_shard_ids)\n",
    "\n",
    "#x_val, y_val = load_dataset(val_shard_ids)\n"
   ]
  },
  {
   "cell_type": "code",
   "execution_count": 3,
   "metadata": {},
   "outputs": [
    {
     "name": "stdout",
     "output_type": "stream",
     "text": [
      "7608\n",
      "tyler haskins [ini-nl] tyler haskins statistics on statscrew . com [end-nl] -> [ini-sl] familyname haskins [end-sl]\n",
      "tyler haskins [ini-nl] tyler haskins born may 26 , 1986 is an american professional ice hockey forward currently playing as captain of the grizzlys wolfsburg in the deutsche eishockey liga del . he was selected by the detroit red wings in the 5th round 162nd overall of the 2004 nhl entry draft . [end-nl] -> [ini-sl] familyname haskins dateofbirth 1986 / 05 / 26 sport ice hockey draftedby detroit red wings [end-sl]\n",
      "tyler haskins [ini-nl] check out tyler haskins profile on the official del website . [end-nl] -> [ini-sl] givenname tyler familyname haskins [end-sl]\n",
      "tyler haskins [ini-nl] tyler haskins stats and news nhl . com [end-nl] -> [ini-sl] familyname haskins [end-sl]\n",
      "muawiyah i [ini-nl] mu awiya is the kisra of the arabs . [end-nl] -> [ini-sl] ethnicgroup arabs [end-sl]\n",
      "muawiyah i [ini-nl] sign up to al islam . org [end-nl] -> [ini-sl] religion islam [end-sl]\n",
      "muawiyah i [ini-nl] sign up to al islam . org [end-nl] -> [ini-sl] religion islam [end-sl]\n",
      "jessica ettinger [ini-nl] behind the scenes in the green room of nbc s today show with jessica ettinger . [end-nl] -> [ini-sl] givenname jessica familyname ettinger [end-sl]\n",
      "jessica ettinger [ini-nl] don t cut jessica ! one woman pleaded . [end-nl] -> [ini-sl] givenname jessica sexorgender woman [end-sl]\n",
      "kayea [ini-nl] the genus kayea is in the family calophyllaceae in the major group angiosperms flowering plants . [end-nl] -> [ini-sl] taxonrank genus parenttaxon calophyllaceae [end-sl]\n",
      "kayea [ini-nl] the genus kayea is in the family calophyllaceae in the major group angiosperms flowering plants . [end-nl] -> [ini-sl] taxonrank genus parenttaxon calophyllaceae [end-sl]\n",
      "blutengel [ini-nl] your daily dosis of electronic music news , sometimes in a cheeky way . [end-nl] -> [ini-sl] genre electronic music [end-sl]\n",
      "persephone borrow [ini-nl] 4 nuffield department of clinical medicine , university of oxford , oxford ox3 7fz , uk . [end-nl] -> [ini-sl] employer university of oxford [end-sl]\n",
      "persephone borrow [ini-nl] nuffield department of clinical medicine , university of oxford , oxford ox3 7fz , uk . [end-nl] -> [ini-sl] employer university of oxford [end-sl]\n",
      "persephone borrow [ini-nl] nuffield department of clinical medicine , university of oxford , oxford ox3 7fz , uk . [end-nl] -> [ini-sl] employer university of oxford [end-sl]\n",
      "persephone borrow [ini-nl] nuffield department of clinical medicine , university of oxford , oxford ox3 7fz , uk . [end-nl] -> [ini-sl] employer university of oxford [end-sl]\n",
      "persephone borrow [ini-nl] nuffield department of clinical medicine , university of oxford , oxford ox3 7fz , uk . [end-nl] -> [ini-sl] employer university of oxford [end-sl]\n",
      "persephone borrow [ini-nl] nuffield department of clinical medicine , university of oxford , oxford ox3 7fz , uk . [end-nl] -> [ini-sl] employer university of oxford [end-sl]\n",
      "persephone borrow [ini-nl] 89 . cambridge university press , cambridge . [end-nl] -> [ini-sl] educatedat cambridge university [end-sl]\n",
      "persephone borrow [ini-nl] georgia d . tomaras barton f . haynes [end-nl] -> [ini-sl] sexorgender f [end-sl]\n"
     ]
    }
   ],
   "source": [
    "def limit_dataset(x, y, titles, max_words_per_statement):\n",
    "    out_x = []\n",
    "    out_y = []\n",
    "    out_titles = []\n",
    "    for i in range(len(x)):\n",
    "        n_statements = len(y[i].split()) - 2\n",
    "        n_tokens = len(x[i].split()) - 2\n",
    "        n_title = len(titles[i].split())\n",
    "        if(n_tokens + n_title <= 300 and n_statements <= 300):\n",
    "            if float(n_tokens)/n_statements < max_words_per_statement:\n",
    "                out_x.append(x[i].replace(\"\\n\", \"\").replace(\"\\r\", \"\").lower())\n",
    "                out_y.append(y[i].replace(\"\\n\", \"\").replace(\"\\r\", \"\").lower())\n",
    "                out_titles.append(titles[i].replace(\"\\n\", \"\").replace(\"\\r\", \"\").lower())\n",
    "    return out_x, out_y, out_titles\n",
    "\n",
    "limited_natural_language_data, limited_structured_langague_data, limited_titles = limit_dataset(natural_language_data, structured_langague_data, titles, 5)\n",
    "print(len(limited_natural_language_data))\n",
    "for i in range(20):\n",
    "    print(\"{} {} -> {}\".format(limited_titles[i], limited_natural_language_data[i], limited_structured_langague_data[i]))\n"
   ]
  },
  {
   "cell_type": "code",
   "execution_count": 4,
   "metadata": {},
   "outputs": [
    {
     "name": "stdout",
     "output_type": "stream",
     "text": [
      "Distribuição de tokens na entrada\n"
     ]
    },
    {
     "data": {
      "image/png": "[encoded data removed]",
      "text/plain": [
       "<Figure size 432x288 with 1 Axes>"
      ]
     },
     "metadata": {
      "needs_background": "light"
     },
     "output_type": "display_data"
    },
    {
     "name": "stdout",
     "output_type": "stream",
     "text": [
      "Distribuição de tokens na saida\n"
     ]
    },
    {
     "data": {
      "image/png": "[encoded data removed]",
      "text/plain": [
       "<Figure size 432x288 with 1 Axes>"
      ]
     },
     "metadata": {
      "needs_background": "light"
     },
     "output_type": "display_data"
    },
    {
     "name": "stdout",
     "output_type": "stream",
     "text": [
      "Distribuição de tokens na entrada/statements na saida\n"
     ]
    },
    {
     "data": {
      "image/png": "[encoded data removed]",
      "text/plain": [
       "<Figure size 432x288 with 1 Axes>"
      ]
     },
     "metadata": {
      "needs_background": "light"
     },
     "output_type": "display_data"
    }
   ],
   "source": [
    "def show_distributions(x, y):\n",
    "    # Distribuicao do numero de palavras nas avaliacoes e titulos\n",
    "    print(\"Distribuição de tokens na entrada\")\n",
    "    plt.hist([len(linha.split()) for linha in x], range=(0, 120))\n",
    "    plt.show()\n",
    "    print(\"Distribuição de tokens na saida\")\n",
    "    plt.hist([len(linha.split()) for linha in y], range=(0, 100))\n",
    "    plt.show()\n",
    "    print(\"Distribuição de tokens na entrada/statements na saida\")\n",
    "    statements = [len(linha.split(\"SEP\")) for linha in y]\n",
    "    tokens = [len(linha.split()) for linha in x]\n",
    "    plt.hist([float(tokens[i])/statements[i] for i in range(len(x))], range=(0, 100))\n",
    "    plt.show()\n",
    "\n",
    "def joint_texts(a, b):\n",
    "    out = []\n",
    "    for i in range(len(a)):\n",
    "        out.append(a[i]+ ' ' + b[i])\n",
    "    return out\n",
    "\n",
    "#show_distributions(natural_language_data, structured_langague_data)\n",
    "x = joint_texts(limited_titles, limited_natural_language_data)\n",
    "y = limited_structured_langague_data\n",
    "show_distributions(x, y)\n",
    "x_train, x_val, y_train, y_val = train_test_split(x, y, test_size=0.15, random_state=42, stratify=None)\n"
   ]
  },
  {
   "cell_type": "code",
   "execution_count": 5,
   "metadata": {},
   "outputs": [
    {
     "name": "stdout",
     "output_type": "stream",
     "text": [
      "15352\n"
     ]
    }
   ],
   "source": [
    "def generate_vocab(sentences):\n",
    "    vocab = {}\n",
    "    index = 0\n",
    "    for sentence in sentences:\n",
    "        for word in sentence.split(' '):\n",
    "            if(word not in vocab):\n",
    "                vocab[word] = index\n",
    "                index = index + 1\n",
    "    return vocab\n",
    "\n",
    "#vocab_dict = generate_vocab(x_train+y_train+x_val+y_val)\n",
    "vocab_dict = generate_vocab(x_train+y_train)\n",
    "vocab = [word for word in vocab_dict]\n",
    "print(len(vocab))"
   ]
  },
  {
   "cell_type": "code",
   "execution_count": 6,
   "metadata": {},
   "outputs": [
    {
     "name": "stdout",
     "output_type": "stream",
     "text": [
      "100 50\n",
      "todd redmond [ini-nl] toronto blue jays designated rhp todd redmond for assignment . [end-nl] --> [ 1373  3736 14259  1334 12761  7611 10791  3447  1373  3736  9409 13418\n",
      " 15210 14261     0     0     0     0     0     0     0     0     0     0\n",
      "     0     0     0     0     0     0     0     0     0     0     0     0\n",
      "     0     0     0     0     0     0     0     0     0     0     0     0\n",
      "     0     0     0     0     0     0     0     0     0     0     0     0\n",
      "     0     0     0     0     0     0     0     0     0     0     0     0\n",
      "     0     0     0     0     0     0     0     0     0     0     0     0\n",
      "     0     0     0     0     0     0     0     0     0     0     0     0\n",
      "     0     0     0     0]\n",
      "[ini-sl] memberofsportsteam blue jays givenname todd [end-sl] --> [14258  6166 12761  7611  9004  1373 14260     0     0     0     0     0\n",
      "     0     0     0     0     0     0     0     0     0     0     0     0\n",
      "     0     0     0     0     0     0     0     0     0     0     0     0\n",
      "     0     0     0     0     0     0     0     0     0     0     0     0\n",
      "     0     0]\n"
     ]
    }
   ],
   "source": [
    "def create_tokenizers(vocab_size, max_input_size, max_output_size, words):\n",
    "    # camada de tokenização\n",
    "    input_vectorize_layer = TextVectorization(max_tokens=vocab_size, output_mode='int', output_sequence_length=max_input_size, standardize=None)\n",
    "    output_vectorize_layer = TextVectorization(max_tokens=vocab_size, output_mode='int', output_sequence_length=max_output_size, standardize=None)\n",
    "    # adapta tokenizador com entrada + saida + [MASC] (saida já tem <SOS> e <EOS>)\n",
    "    input_vectorize_layer.adapt(words)\n",
    "    output_vectorize_layer.adapt(words)\n",
    "    vocab = input_vectorize_layer.get_vocabulary()\n",
    "    word_index = dict(zip(vocab, range(len(vocab))))\n",
    "    return input_vectorize_layer, output_vectorize_layer, vocab, word_index\n",
    "\n",
    "VOCAB_SIZE = len(vocab)\n",
    "MAXTOKENS_SL = 50# max([len(line.split()) for line in x_train]) # 200 # tamanho maximo considerado para textos\n",
    "MAXTOKENS_NL = 100# max([len(line.split()) for line in y_train]) # 50\n",
    "print(MAXTOKENS_NL, MAXTOKENS_SL)\n",
    "input_tokenizer_layer, output_tokenizer_layer, tokenizer_vocab, word_index = create_tokenizers(VOCAB_SIZE, MAXTOKENS_NL, MAXTOKENS_SL, vocab)\n",
    "\n",
    "# tokenizando dados de treino e validacao\n",
    "input_tokenizer_model = tf.keras.models.Sequential()\n",
    "input_tokenizer_model.add(tf.keras.Input(shape=(1,), dtype=tf.string))\n",
    "input_tokenizer_model.add(input_tokenizer_layer)\n",
    "\n",
    "output_tokenizer_model = tf.keras.models.Sequential()\n",
    "output_tokenizer_model.add(tf.keras.Input(shape=(1,), dtype=tf.string))\n",
    "output_tokenizer_model.add(output_tokenizer_layer)\n",
    "'''\n",
    "t_x_train = input_tokenizer_model.predict(x_train_limited)\n",
    "t_x_val = input_tokenizer_model.predict(x_val_limited)\n",
    "t_y_train = output_tokenizer_model.predict(y_train_limited)\n",
    "t_y_val = output_tokenizer_model.predict(y_val_limited)\n",
    "print(x_train_limited[0], '-->', t_x_train[0])\n",
    "print(y_train_limited[0], '-->', t_y_train[0])\n",
    "'''\n",
    "t_x_train = input_tokenizer_model.predict(x_train)\n",
    "t_x_val = input_tokenizer_model.predict(x_val)\n",
    "t_y_train = output_tokenizer_model.predict(y_train)\n",
    "t_y_val = output_tokenizer_model.predict(y_val)\n",
    "print(x_train[0], '-->', t_x_train[0])\n",
    "print(y_train[0], '-->', t_y_train[0])\n",
    "\n"
   ]
  },
  {
   "cell_type": "code",
   "execution_count": 42,
   "metadata": {},
   "outputs": [
    {
     "name": "stdout",
     "output_type": "stream",
     "text": [
      "(16, 100) (16, 50)\n"
     ]
    },
    {
     "data": {
      "text/plain": [
       "'\\nBUFFER_SIZE = len(x_train)\\nBATCH_SIZE = 32\\nsteps_per_epoch_train = len(x_train)//BATCH_SIZE\\nsteps_per_epoch_val = len(x_val)//BATCH_SIZE\\ndataset_train = tf.data.Dataset.from_tensor_slices((x_train, y_train)).shuffle(BUFFER_SIZE)\\ndataset_train = dataset_train.batch(BATCH_SIZE, drop_remainder=True)\\n# dataset de validacao\\ndataset_val = tf.data.Dataset.from_tensor_slices((x_val, y_val)).shuffle(BUFFER_SIZE)\\ndataset_val = dataset_val.batch(BATCH_SIZE, drop_remainder=True)\\n\\nexample_input_batch, example_target_batch = next(iter(dataset_train))\\nprint(example_input_batch.shape, example_target_batch.shape)\\n\\nprint(example_input_batch[0])\\n'"
      ]
     },
     "execution_count": 42,
     "metadata": {},
     "output_type": "execute_result"
    }
   ],
   "source": [
    "# criando dataset do tipo tf.dataset (ja separado em batchs)]\n",
    "BUFFER_SIZE_TRAIN = len(t_x_train)\n",
    "BUFFER_SIZE_VAL = len(t_x_val)\n",
    "BATCH_SIZE = 16\n",
    "steps_per_epoch_train = len(t_x_train)//BATCH_SIZE\n",
    "steps_per_epoch_val = len(t_x_val)//BATCH_SIZE\n",
    "dataset_train = tf.data.Dataset.from_tensor_slices((t_x_train, t_y_train)).shuffle(BUFFER_SIZE_TRAIN)\n",
    "dataset_train = dataset_train.batch(BATCH_SIZE, drop_remainder=True)\n",
    "# dataset de validacao\n",
    "dataset_val = tf.data.Dataset.from_tensor_slices((t_x_val, t_y_val)).shuffle(BUFFER_SIZE_VAL)\n",
    "dataset_val = dataset_val.batch(BATCH_SIZE, drop_remainder=True)\n",
    "\n",
    "example_input_batch, example_target_batch = next(iter(dataset_train))\n",
    "print(example_input_batch.shape, example_target_batch.shape)\n",
    "'''\n",
    "BUFFER_SIZE = len(x_train)\n",
    "BATCH_SIZE = 32\n",
    "steps_per_epoch_train = len(x_train)//BATCH_SIZE\n",
    "steps_per_epoch_val = len(x_val)//BATCH_SIZE\n",
    "dataset_train = tf.data.Dataset.from_tensor_slices((x_train, y_train)).shuffle(BUFFER_SIZE)\n",
    "dataset_train = dataset_train.batch(BATCH_SIZE, drop_remainder=True)\n",
    "# dataset de validacao\n",
    "dataset_val = tf.data.Dataset.from_tensor_slices((x_val, y_val)).shuffle(BUFFER_SIZE)\n",
    "dataset_val = dataset_val.batch(BATCH_SIZE, drop_remainder=True)\n",
    "\n",
    "example_input_batch, example_target_batch = next(iter(dataset_train))\n",
    "print(example_input_batch.shape, example_target_batch.shape)\n",
    "\n",
    "print(example_input_batch[0])\n",
    "'''"
   ]
  },
  {
   "cell_type": "code",
   "execution_count": 42,
   "metadata": {},
   "outputs": [],
   "source": [
    "glove_vectors = gensim.downloader.load('glove-wiki-gigaword-100')"
   ]
  },
  {
   "cell_type": "code",
   "execution_count": 43,
   "metadata": {},
   "outputs": [
    {
     "name": "stdout",
     "output_type": "stream",
     "text": [
      "{'[SEP]': [-2.0, -2.0, -2.0, -2.0, -2.0, -2.0, -2.0, -2.0, -2.0, -2.0, -2.0, -2.0, -2.0, -2.0, -2.0, -2.0, -2.0, -2.0, -2.0, -2.0, -2.0, -2.0, -2.0, -2.0, -2.0, -2.0, -2.0, -2.0, -2.0, -2.0, -2.0, -2.0, -2.0, -2.0, -2.0, -2.0, -2.0, -2.0, -2.0, -2.0, -2.0, -2.0, -2.0, -2.0, -2.0, -2.0, -2.0, -2.0, -2.0, -2.0, -2.0, -2.0, -2.0, -2.0, -2.0, -2.0, -2.0, -2.0, -2.0, -2.0, -2.0, -2.0, -2.0, -2.0, -2.0, -2.0, -2.0, -2.0, -2.0, -2.0, -2.0, -2.0, -2.0, -2.0, -2.0, -2.0, -2.0, -2.0, -2.0, -2.0, -2.0, -2.0, -2.0, -2.0, -2.0, -2.0, -2.0, -2.0, -2.0, -2.0, -2.0, -2.0, -2.0, -2.0, -2.0, -2.0, -2.0, -2.0, -2.0, -2.0], '[END-NL]': [-1.0, -1.0, -1.0, -1.0, -1.0, -1.0, -1.0, -1.0, -1.0, -1.0, -1.0, -1.0, -1.0, -1.0, -1.0, -1.0, -1.0, -1.0, -1.0, -1.0, -1.0, -1.0, -1.0, -1.0, -1.0, -1.0, -1.0, -1.0, -1.0, -1.0, -1.0, -1.0, -1.0, -1.0, -1.0, -1.0, -1.0, -1.0, -1.0, -1.0, -1.0, -1.0, -1.0, -1.0, -1.0, -1.0, -1.0, -1.0, -1.0, -1.0, -1.0, -1.0, -1.0, -1.0, -1.0, -1.0, -1.0, -1.0, -1.0, -1.0, -1.0, -1.0, -1.0, -1.0, -1.0, -1.0, -1.0, -1.0, -1.0, -1.0, -1.0, -1.0, -1.0, -1.0, -1.0, -1.0, -1.0, -1.0, -1.0, -1.0, -1.0, -1.0, -1.0, -1.0, -1.0, -1.0, -1.0, -1.0, -1.0, -1.0, -1.0, -1.0, -1.0, -1.0, -1.0, -1.0, -1.0, -1.0, -1.0, -1.0], '[INI-NL]': [0.0, 0.0, 0.0, 0.0, 0.0, 0.0, 0.0, 0.0, 0.0, 0.0, 0.0, 0.0, 0.0, 0.0, 0.0, 0.0, 0.0, 0.0, 0.0, 0.0, 0.0, 0.0, 0.0, 0.0, 0.0, 0.0, 0.0, 0.0, 0.0, 0.0, 0.0, 0.0, 0.0, 0.0, 0.0, 0.0, 0.0, 0.0, 0.0, 0.0, 0.0, 0.0, 0.0, 0.0, 0.0, 0.0, 0.0, 0.0, 0.0, 0.0, 0.0, 0.0, 0.0, 0.0, 0.0, 0.0, 0.0, 0.0, 0.0, 0.0, 0.0, 0.0, 0.0, 0.0, 0.0, 0.0, 0.0, 0.0, 0.0, 0.0, 0.0, 0.0, 0.0, 0.0, 0.0, 0.0, 0.0, 0.0, 0.0, 0.0, 0.0, 0.0, 0.0, 0.0, 0.0, 0.0, 0.0, 0.0, 0.0, 0.0, 0.0, 0.0, 0.0, 0.0, 0.0, 0.0, 0.0, 0.0, 0.0, 0.0], '[INI-SL]': [1.0, 1.0, 1.0, 1.0, 1.0, 1.0, 1.0, 1.0, 1.0, 1.0, 1.0, 1.0, 1.0, 1.0, 1.0, 1.0, 1.0, 1.0, 1.0, 1.0, 1.0, 1.0, 1.0, 1.0, 1.0, 1.0, 1.0, 1.0, 1.0, 1.0, 1.0, 1.0, 1.0, 1.0, 1.0, 1.0, 1.0, 1.0, 1.0, 1.0, 1.0, 1.0, 1.0, 1.0, 1.0, 1.0, 1.0, 1.0, 1.0, 1.0, 1.0, 1.0, 1.0, 1.0, 1.0, 1.0, 1.0, 1.0, 1.0, 1.0, 1.0, 1.0, 1.0, 1.0, 1.0, 1.0, 1.0, 1.0, 1.0, 1.0, 1.0, 1.0, 1.0, 1.0, 1.0, 1.0, 1.0, 1.0, 1.0, 1.0, 1.0, 1.0, 1.0, 1.0, 1.0, 1.0, 1.0, 1.0, 1.0, 1.0, 1.0, 1.0, 1.0, 1.0, 1.0, 1.0, 1.0, 1.0, 1.0, 1.0], '[END-SL]': [2.0, 2.0, 2.0, 2.0, 2.0, 2.0, 2.0, 2.0, 2.0, 2.0, 2.0, 2.0, 2.0, 2.0, 2.0, 2.0, 2.0, 2.0, 2.0, 2.0, 2.0, 2.0, 2.0, 2.0, 2.0, 2.0, 2.0, 2.0, 2.0, 2.0, 2.0, 2.0, 2.0, 2.0, 2.0, 2.0, 2.0, 2.0, 2.0, 2.0, 2.0, 2.0, 2.0, 2.0, 2.0, 2.0, 2.0, 2.0, 2.0, 2.0, 2.0, 2.0, 2.0, 2.0, 2.0, 2.0, 2.0, 2.0, 2.0, 2.0, 2.0, 2.0, 2.0, 2.0, 2.0, 2.0, 2.0, 2.0, 2.0, 2.0, 2.0, 2.0, 2.0, 2.0, 2.0, 2.0, 2.0, 2.0, 2.0, 2.0, 2.0, 2.0, 2.0, 2.0, 2.0, 2.0, 2.0, 2.0, 2.0, 2.0, 2.0, 2.0, 2.0, 2.0, 2.0, 2.0, 2.0, 2.0, 2.0, 2.0]}\n",
      "Hits: 61174, misses: 18429\n",
      "Palavras 61174 convertidas (18429 perdidas, 23.2%)\n",
      "Dims da matriz de embeddings: (79603, 100)\n",
      "Embedding de [SEP] [-2. -2. -2. -2. -2. -2. -2. -2. -2. -2. -2. -2. -2. -2. -2. -2. -2. -2.\n",
      " -2. -2. -2. -2. -2. -2. -2. -2. -2. -2. -2. -2. -2. -2. -2. -2. -2. -2.\n",
      " -2. -2. -2. -2. -2. -2. -2. -2. -2. -2. -2. -2. -2. -2. -2. -2. -2. -2.\n",
      " -2. -2. -2. -2. -2. -2. -2. -2. -2. -2. -2. -2. -2. -2. -2. -2. -2. -2.\n",
      " -2. -2. -2. -2. -2. -2. -2. -2. -2. -2. -2. -2. -2. -2. -2. -2. -2. -2.\n",
      " -2. -2. -2. -2. -2. -2. -2. -2. -2. -2.]\n",
      "Embedding de good:  [-0.030769    0.11993     0.53908998 -0.43696001 -0.73936999 -0.15345\n",
      "  0.081126   -0.38558999 -0.68796998 -0.41632    -0.13183001 -0.24922\n",
      "  0.44100001  0.085919    0.20871    -0.063582    0.062228   -0.051234\n",
      " -0.13398001  1.14180005  0.036526    0.49028999 -0.24567001 -0.412\n",
      "  0.12349     0.41336    -0.48396999 -0.54242998 -0.27787    -0.26014999\n",
      " -0.38485     0.78656     0.1023     -0.20712     0.40751001  0.32025999\n",
      " -0.51051998  0.48361999 -0.0099498  -0.38685     0.034975   -0.167\n",
      "  0.4237     -0.54163998 -0.30322999 -0.36983001  0.082836   -0.52538002\n",
      " -0.064531   -1.398      -0.14872999 -0.35326999 -0.1118      1.09119999\n",
      "  0.095864   -2.81290007  0.45238     0.46213001  1.60119998 -0.20837\n",
      " -0.27377     0.71196997 -1.07539999 -0.046974    0.67479002 -0.065839\n",
      "  0.75823998  0.39405     0.15507001 -0.64718997  0.32796001 -0.031748\n",
      "  0.52898997 -0.43886     0.67404997  0.42135999 -0.11981    -0.21777\n",
      " -0.29756001 -0.13510001  0.59898001  0.46529001 -0.58257997 -0.02323\n",
      " -1.54419994  0.01901    -0.015877    0.024499   -0.58016998 -0.67659003\n",
      " -0.040379   -0.44042999  0.083292    0.20035    -0.75498998  0.16918001\n",
      " -0.26572999 -0.52877998  0.17584001  1.06500006]\n"
     ]
    }
   ],
   "source": [
    "def create_embedding(word_index, pretrained_embedding, vocab_size, embedding_dim, max_sentence_size):\n",
    "    hits = 0\n",
    "    misses = 0\n",
    "    # epecial tokens embeddings\n",
    "    especial_tokens_emb = {}\n",
    "    i = -2\n",
    "    for especial_token in ['[SEP]','[END-NL]', '[INI-NL]', '[INI-SL]', '[END-SL]']:\n",
    "        especial_tokens_emb[especial_token] = [float(i) for k in range(embedding_dim)]\n",
    "        i = i + 1\n",
    "    print(especial_tokens_emb)\n",
    "    # Preparando embedding matrix\n",
    "    embedding_matrix = np.zeros((vocab_size, embedding_dim))\n",
    "    j = 0\n",
    "    for word, i in word_index.items():\n",
    "        if(word in pretrained_embedding):\n",
    "            embedding_matrix[i] = pretrained_embedding[word]\n",
    "            hits += 1\n",
    "        elif word in ['[SEP]','[END-NL]', '[INI-NL]', '[INI-SL]', '[END-SL]']: # criando embedding padrao para tokens especiais\n",
    "            embedding_matrix[i] = especial_tokens_emb[word]\n",
    "            j = j + 1\n",
    "            hits += 1\n",
    "        else:\n",
    "            misses += 1\n",
    "    print(\"Hits: {}, misses: {}\".format(hits, misses))\n",
    "    print('Palavras {} convertidas ({} perdidas, {}%)'.format(hits, misses, round(100*misses/(hits+misses), 1)))\n",
    "    print('Dims da matriz de embeddings: {}'.format(embedding_matrix.shape))\n",
    "    embedding_layer = Embedding(input_dim=vocab_size, output_dim=embedding_dim, input_length=max_sentence_size, weights=[embedding_matrix], trainable=False)\n",
    "    return embedding_layer, embedding_matrix\n",
    "\n",
    "# camada de embedding\n",
    "EMBEDDING_DIM = 100\n",
    "embedding_layer, embedding_matrix = create_embedding(word_index, glove_vectors, VOCAB_SIZE, EMBEDDING_DIM, MAXTOKENS_NL)\n",
    "print('Embedding de [SEP]', embedding_matrix[word_index['[SEP]']])# embeddings definidos para tokens especiais\n",
    "print('Embedding de good: ', embedding_matrix[word_index['good']])# embeddings para tokens de algumas palavras\n"
   ]
  },
  {
   "cell_type": "code",
   "execution_count": 8,
   "metadata": {},
   "outputs": [],
   "source": [
    "EMBEDDING_DIM = 50\n",
    "embedding_layer = Embedding(input_dim=VOCAB_SIZE, output_dim=EMBEDDING_DIM, input_length=MAXTOKENS_NL, trainable=True)"
   ]
  },
  {
   "cell_type": "code",
   "execution_count": 9,
   "metadata": {},
   "outputs": [
    {
     "name": "stdout",
     "output_type": "stream",
     "text": [
      "Encoder output shape: (batch size, sequence length, units) (16, 100, 128)\n",
      "Encoder forward_h shape: (batch size, units) (16, 64)\n",
      "Encoder forward_c shape: (batch size, units) (16, 64)\n",
      "Encoder backward_h shape: (batch size, units) (16, 64)\n",
      "Encoder backward_c shape: (batch size, units) (16, 64)\n",
      "(16, 128)\n"
     ]
    }
   ],
   "source": [
    "class BiLSTMEncoder(tf.keras.Model):\n",
    "    def __init__(self, vocab_size, embedding_layer, enc_units, batch_sz):\n",
    "        super(BiLSTMEncoder, self).__init__()\n",
    "        self.batch_sz = batch_sz\n",
    "        self.enc_units = enc_units\n",
    "        self.embedding = embedding_layer\n",
    "        self.bilstm = Bidirectional(tf.keras.layers.RNN(tf.keras.layers.LSTMCell(self.enc_units),\n",
    "                                        return_sequences=True,\n",
    "                                        return_state=True))\n",
    "\n",
    "    def call(self, x, hidden):\n",
    "        x = self.embedding(x)\n",
    "        output, forward_h, forward_c, backward_h, backward_c =  self.bilstm(x, initial_state = hidden)\n",
    "        return output, forward_h, forward_c, backward_h, backward_c\n",
    "\n",
    "    def initialize_hidden_state(self):\n",
    "        return [tf.zeros((self.batch_sz, self.enc_units)) for i in range(4)]\n",
    "# encoder\n",
    "units = 64\n",
    "encoder = BiLSTMEncoder(VOCAB_SIZE, embedding_layer, units, BATCH_SIZE)\n",
    "\n",
    "# sample input\n",
    "sample_hidden = encoder.initialize_hidden_state()\n",
    "sample_output, forward_h, forward_c, backward_h, backward_c = encoder(example_input_batch, sample_hidden)\n",
    "print('Encoder output shape: (batch size, sequence length, units) {}'.format(sample_output.shape))\n",
    "print('Encoder forward_h shape: (batch size, units) {}'.format(forward_h.shape))\n",
    "print('Encoder forward_c shape: (batch size, units) {}'.format(forward_c.shape))\n",
    "print('Encoder backward_h shape: (batch size, units) {}'.format(backward_h.shape))\n",
    "print('Encoder backward_c shape: (batch size, units) {}'.format(backward_c.shape))\n",
    "forward_backward_h = Concatenate(axis=1)([forward_h, backward_h])\n",
    "print(forward_backward_h.shape)\n",
    "\n",
    "\n"
   ]
  },
  {
   "cell_type": "code",
   "execution_count": 10,
   "metadata": {},
   "outputs": [
    {
     "name": "stdout",
     "output_type": "stream",
     "text": [
      "Attention result shape: (batch size, units) (16, 128)\n",
      "Attention weights shape: (batch_size, sequence_length, 1) (16, 100, 1)\n"
     ]
    }
   ],
   "source": [
    "class BahdanauAttention(tf.keras.layers.Layer):\n",
    "    def __init__(self, units):\n",
    "        super(BahdanauAttention, self).__init__()\n",
    "        self.W1 = tf.keras.layers.Dense(units)\n",
    "        self.W2 = tf.keras.layers.Dense(units)\n",
    "        self.V = tf.keras.layers.Dense(1)\n",
    "\n",
    "    def call(self, query, values):\n",
    "        # query hidden state shape == (batch_size, hidden size)\n",
    "        # query_with_time_axis shape == (batch_size, 1, hidden size)\n",
    "        # values shape == (batch_size, max_len, hidden size)\n",
    "        # we are doing this to broadcast addition along the time axis to calculate the score\n",
    "        query_with_time_axis = tf.expand_dims(query, 1)\n",
    "        # score shape == (batch_size, max_length, 1)\n",
    "        # we get 1 at the last axis because we are applying score to self.V\n",
    "        # the shape of the tensor before applying self.V is (batch_size, max_length, units)\n",
    "        score = self.V(tf.nn.tanh(\n",
    "            self.W1(query_with_time_axis) + self.W2(values)))\n",
    "\n",
    "        # attention_weights shape == (batch_size, max_length, 1)\n",
    "        attention_weights = tf.nn.softmax(score, axis=1)\n",
    "\n",
    "        # context_vector shape after sum == (batch_size, hidden_size)\n",
    "        context_vector = attention_weights * values\n",
    "        context_vector = tf.reduce_sum(context_vector, axis=1)\n",
    "\n",
    "        return context_vector, attention_weights\n",
    "\n",
    "# camada de atencao\n",
    "attention_layer = BahdanauAttention(10)\n",
    "attention_result, attention_weights = attention_layer(forward_backward_h, sample_output)\n",
    "print(\"Attention result shape: (batch size, units) {}\".format(attention_result.shape))\n",
    "print(\"Attention weights shape: (batch_size, sequence_length, 1) {}\".format(attention_weights.shape))\n"
   ]
  },
  {
   "cell_type": "code",
   "execution_count": 22,
   "metadata": {},
   "outputs": [
    {
     "name": "stdout",
     "output_type": "stream",
     "text": [
      "tf.Tensor(\n",
      "[b'[INI-SL]' b'[INI-SL]' b'[INI-SL]' b'[INI-SL]' b'[INI-SL]' b'[INI-SL]'\n",
      " b'[INI-SL]' b'[INI-SL]' b'[INI-SL]' b'[INI-SL]' b'[INI-SL]' b'[INI-SL]'\n",
      " b'[INI-SL]' b'[INI-SL]' b'[INI-SL]' b'[INI-SL]' b'[INI-SL]' b'[INI-SL]'\n",
      " b'[INI-SL]' b'[INI-SL]' b'[INI-SL]' b'[INI-SL]' b'[INI-SL]' b'[INI-SL]'\n",
      " b'[INI-SL]' b'[INI-SL]' b'[INI-SL]' b'[INI-SL]' b'[INI-SL]' b'[INI-SL]'\n",
      " b'[INI-SL]' b'[INI-SL]'], shape=(32,), dtype=string)\n"
     ]
    },
    {
     "ename": "InvalidArgumentError",
     "evalue": "ConcatOp : Dimensions of inputs should match: shape[0] = [32,1,256] vs. shape[1] = [32,50,100] [Op:ConcatV2] name: concat",
     "output_type": "error",
     "traceback": [
      "\u001b[0;31m---------------------------------------------------------------------------\u001b[0m",
      "\u001b[0;31mInvalidArgumentError\u001b[0m                      Traceback (most recent call last)",
      "\u001b[0;32m<ipython-input-22-97ec6af0e073>\u001b[0m in \u001b[0;36m<module>\u001b[0;34m\u001b[0m\n\u001b[1;32m     36\u001b[0m \u001b[0mprint\u001b[0m\u001b[0;34m(\u001b[0m\u001b[0mtf\u001b[0m\u001b[0;34m.\u001b[0m\u001b[0mconvert_to_tensor\u001b[0m\u001b[0;34m(\u001b[0m\u001b[0;34m[\u001b[0m\u001b[0;34m'[INI-SL]'\u001b[0m\u001b[0;34m]\u001b[0m \u001b[0;34m*\u001b[0m \u001b[0mBATCH_SIZE\u001b[0m\u001b[0;34m)\u001b[0m\u001b[0;34m)\u001b[0m\u001b[0;34m\u001b[0m\u001b[0m\n\u001b[1;32m     37\u001b[0m \u001b[0mdecoder\u001b[0m \u001b[0;34m=\u001b[0m \u001b[0mDecoder\u001b[0m\u001b[0;34m(\u001b[0m\u001b[0mVOCAB_SIZE\u001b[0m\u001b[0;34m,\u001b[0m \u001b[0membedding_layer\u001b[0m\u001b[0;34m,\u001b[0m \u001b[0moutput_tokenizer_layer\u001b[0m\u001b[0;34m,\u001b[0m \u001b[0;36m2\u001b[0m\u001b[0;34m*\u001b[0m\u001b[0munits\u001b[0m\u001b[0;34m,\u001b[0m \u001b[0mBATCH_SIZE\u001b[0m\u001b[0;34m)\u001b[0m\u001b[0;34m\u001b[0m\u001b[0m\n\u001b[0;32m---> 38\u001b[0;31m \u001b[0msample_decoder_output\u001b[0m\u001b[0;34m,\u001b[0m \u001b[0m_\u001b[0m\u001b[0;34m,\u001b[0m \u001b[0m_\u001b[0m \u001b[0;34m=\u001b[0m \u001b[0mdecoder\u001b[0m\u001b[0;34m(\u001b[0m\u001b[0mtf\u001b[0m\u001b[0;34m.\u001b[0m\u001b[0mconvert_to_tensor\u001b[0m\u001b[0;34m(\u001b[0m\u001b[0;34m[\u001b[0m\u001b[0;34m'[INI-SL]'\u001b[0m\u001b[0;34m]\u001b[0m \u001b[0;34m*\u001b[0m \u001b[0mBATCH_SIZE\u001b[0m\u001b[0;34m)\u001b[0m\u001b[0;34m,\u001b[0m \u001b[0mforward_backward_h\u001b[0m\u001b[0;34m,\u001b[0m \u001b[0msample_output\u001b[0m\u001b[0;34m)\u001b[0m\u001b[0;34m\u001b[0m\u001b[0m\n\u001b[0m\u001b[1;32m     39\u001b[0m \u001b[0mprint\u001b[0m \u001b[0;34m(\u001b[0m\u001b[0;34m'Decoder output shape: (batch_size, vocab size) {}'\u001b[0m\u001b[0;34m.\u001b[0m\u001b[0mformat\u001b[0m\u001b[0;34m(\u001b[0m\u001b[0msample_decoder_output\u001b[0m\u001b[0;34m.\u001b[0m\u001b[0mshape\u001b[0m\u001b[0;34m)\u001b[0m\u001b[0;34m)\u001b[0m\u001b[0;34m\u001b[0m\u001b[0m\n",
      "\u001b[0;32m~/Projetos/MAC5725/nlp/lib/python3.5/site-packages/tensorflow/python/keras/engine/base_layer.py\u001b[0m in \u001b[0;36m__call__\u001b[0;34m(self, *args, **kwargs)\u001b[0m\n\u001b[1;32m    983\u001b[0m \u001b[0;34m\u001b[0m\u001b[0m\n\u001b[1;32m    984\u001b[0m         \u001b[0;32mwith\u001b[0m \u001b[0mops\u001b[0m\u001b[0;34m.\u001b[0m\u001b[0menable_auto_cast_variables\u001b[0m\u001b[0;34m(\u001b[0m\u001b[0mself\u001b[0m\u001b[0;34m.\u001b[0m\u001b[0m_compute_dtype_object\u001b[0m\u001b[0;34m)\u001b[0m\u001b[0;34m:\u001b[0m\u001b[0;34m\u001b[0m\u001b[0m\n\u001b[0;32m--> 985\u001b[0;31m           \u001b[0moutputs\u001b[0m \u001b[0;34m=\u001b[0m \u001b[0mcall_fn\u001b[0m\u001b[0;34m(\u001b[0m\u001b[0minputs\u001b[0m\u001b[0;34m,\u001b[0m \u001b[0;34m*\u001b[0m\u001b[0margs\u001b[0m\u001b[0;34m,\u001b[0m \u001b[0;34m**\u001b[0m\u001b[0mkwargs\u001b[0m\u001b[0;34m)\u001b[0m\u001b[0;34m\u001b[0m\u001b[0m\n\u001b[0m\u001b[1;32m    986\u001b[0m \u001b[0;34m\u001b[0m\u001b[0m\n\u001b[1;32m    987\u001b[0m         \u001b[0;32mif\u001b[0m \u001b[0mself\u001b[0m\u001b[0;34m.\u001b[0m\u001b[0m_activity_regularizer\u001b[0m\u001b[0;34m:\u001b[0m\u001b[0;34m\u001b[0m\u001b[0m\n",
      "\u001b[0;32m<ipython-input-22-97ec6af0e073>\u001b[0m in \u001b[0;36mcall\u001b[0;34m(self, x, hidden, enc_output)\u001b[0m\n\u001b[1;32m     24\u001b[0m         \u001b[0;31m#print(x.shape)\u001b[0m\u001b[0;34m\u001b[0m\u001b[0;34m\u001b[0m\u001b[0m\n\u001b[1;32m     25\u001b[0m         \u001b[0;31m# x shape after concatenation == (batch_size, 1, embedding_dim + hidden_size)\u001b[0m\u001b[0;34m\u001b[0m\u001b[0;34m\u001b[0m\u001b[0m\n\u001b[0;32m---> 26\u001b[0;31m         \u001b[0mx\u001b[0m \u001b[0;34m=\u001b[0m \u001b[0mtf\u001b[0m\u001b[0;34m.\u001b[0m\u001b[0mconcat\u001b[0m\u001b[0;34m(\u001b[0m\u001b[0;34m[\u001b[0m\u001b[0mtf\u001b[0m\u001b[0;34m.\u001b[0m\u001b[0mexpand_dims\u001b[0m\u001b[0;34m(\u001b[0m\u001b[0mcontext_vector\u001b[0m\u001b[0;34m,\u001b[0m \u001b[0;36m1\u001b[0m\u001b[0;34m)\u001b[0m\u001b[0;34m,\u001b[0m \u001b[0mx\u001b[0m\u001b[0;34m]\u001b[0m\u001b[0;34m,\u001b[0m \u001b[0maxis\u001b[0m\u001b[0;34m=\u001b[0m\u001b[0;34m-\u001b[0m\u001b[0;36m1\u001b[0m\u001b[0;34m)\u001b[0m\u001b[0;34m\u001b[0m\u001b[0m\n\u001b[0m\u001b[1;32m     27\u001b[0m         \u001b[0;31m# passing the concatenated vector to the GRU\u001b[0m\u001b[0;34m\u001b[0m\u001b[0;34m\u001b[0m\u001b[0m\n\u001b[1;32m     28\u001b[0m         \u001b[0moutput\u001b[0m\u001b[0;34m,\u001b[0m \u001b[0mstate\u001b[0m \u001b[0;34m=\u001b[0m \u001b[0mself\u001b[0m\u001b[0;34m.\u001b[0m\u001b[0mgru\u001b[0m\u001b[0;34m(\u001b[0m\u001b[0mx\u001b[0m\u001b[0;34m)\u001b[0m\u001b[0;34m\u001b[0m\u001b[0m\n",
      "\u001b[0;32m~/Projetos/MAC5725/nlp/lib/python3.5/site-packages/tensorflow/python/util/dispatch.py\u001b[0m in \u001b[0;36mwrapper\u001b[0;34m(*args, **kwargs)\u001b[0m\n\u001b[1;32m    199\u001b[0m     \u001b[0;34m\"\"\"Call target, and fall back on dispatchers if there is a TypeError.\"\"\"\u001b[0m\u001b[0;34m\u001b[0m\u001b[0m\n\u001b[1;32m    200\u001b[0m     \u001b[0;32mtry\u001b[0m\u001b[0;34m:\u001b[0m\u001b[0;34m\u001b[0m\u001b[0m\n\u001b[0;32m--> 201\u001b[0;31m       \u001b[0;32mreturn\u001b[0m \u001b[0mtarget\u001b[0m\u001b[0;34m(\u001b[0m\u001b[0;34m*\u001b[0m\u001b[0margs\u001b[0m\u001b[0;34m,\u001b[0m \u001b[0;34m**\u001b[0m\u001b[0mkwargs\u001b[0m\u001b[0;34m)\u001b[0m\u001b[0;34m\u001b[0m\u001b[0m\n\u001b[0m\u001b[1;32m    202\u001b[0m     \u001b[0;32mexcept\u001b[0m \u001b[0;34m(\u001b[0m\u001b[0mTypeError\u001b[0m\u001b[0;34m,\u001b[0m \u001b[0mValueError\u001b[0m\u001b[0;34m)\u001b[0m\u001b[0;34m:\u001b[0m\u001b[0;34m\u001b[0m\u001b[0m\n\u001b[1;32m    203\u001b[0m       \u001b[0;31m# Note: convert_to_eager_tensor currently raises a ValueError, not a\u001b[0m\u001b[0;34m\u001b[0m\u001b[0;34m\u001b[0m\u001b[0m\n",
      "\u001b[0;32m~/Projetos/MAC5725/nlp/lib/python3.5/site-packages/tensorflow/python/ops/array_ops.py\u001b[0m in \u001b[0;36mconcat\u001b[0;34m(values, axis, name)\u001b[0m\n\u001b[1;32m   1652\u001b[0m           dtype=dtypes.int32).get_shape().assert_has_rank(0)\n\u001b[1;32m   1653\u001b[0m       \u001b[0;32mreturn\u001b[0m \u001b[0midentity\u001b[0m\u001b[0;34m(\u001b[0m\u001b[0mvalues\u001b[0m\u001b[0;34m[\u001b[0m\u001b[0;36m0\u001b[0m\u001b[0;34m]\u001b[0m\u001b[0;34m,\u001b[0m \u001b[0mname\u001b[0m\u001b[0;34m=\u001b[0m\u001b[0mname\u001b[0m\u001b[0;34m)\u001b[0m\u001b[0;34m\u001b[0m\u001b[0m\n\u001b[0;32m-> 1654\u001b[0;31m   \u001b[0;32mreturn\u001b[0m \u001b[0mgen_array_ops\u001b[0m\u001b[0;34m.\u001b[0m\u001b[0mconcat_v2\u001b[0m\u001b[0;34m(\u001b[0m\u001b[0mvalues\u001b[0m\u001b[0;34m=\u001b[0m\u001b[0mvalues\u001b[0m\u001b[0;34m,\u001b[0m \u001b[0maxis\u001b[0m\u001b[0;34m=\u001b[0m\u001b[0maxis\u001b[0m\u001b[0;34m,\u001b[0m \u001b[0mname\u001b[0m\u001b[0;34m=\u001b[0m\u001b[0mname\u001b[0m\u001b[0;34m)\u001b[0m\u001b[0;34m\u001b[0m\u001b[0m\n\u001b[0m\u001b[1;32m   1655\u001b[0m \u001b[0;34m\u001b[0m\u001b[0m\n\u001b[1;32m   1656\u001b[0m \u001b[0;34m\u001b[0m\u001b[0m\n",
      "\u001b[0;32m~/Projetos/MAC5725/nlp/lib/python3.5/site-packages/tensorflow/python/ops/gen_array_ops.py\u001b[0m in \u001b[0;36mconcat_v2\u001b[0;34m(values, axis, name)\u001b[0m\n\u001b[1;32m   1205\u001b[0m       \u001b[0;32mreturn\u001b[0m \u001b[0m_result\u001b[0m\u001b[0;34m\u001b[0m\u001b[0m\n\u001b[1;32m   1206\u001b[0m     \u001b[0;32mexcept\u001b[0m \u001b[0m_core\u001b[0m\u001b[0;34m.\u001b[0m\u001b[0m_NotOkStatusException\u001b[0m \u001b[0;32mas\u001b[0m \u001b[0me\u001b[0m\u001b[0;34m:\u001b[0m\u001b[0;34m\u001b[0m\u001b[0m\n\u001b[0;32m-> 1207\u001b[0;31m       \u001b[0m_ops\u001b[0m\u001b[0;34m.\u001b[0m\u001b[0mraise_from_not_ok_status\u001b[0m\u001b[0;34m(\u001b[0m\u001b[0me\u001b[0m\u001b[0;34m,\u001b[0m \u001b[0mname\u001b[0m\u001b[0;34m)\u001b[0m\u001b[0;34m\u001b[0m\u001b[0m\n\u001b[0m\u001b[1;32m   1208\u001b[0m     \u001b[0;32mexcept\u001b[0m \u001b[0m_core\u001b[0m\u001b[0;34m.\u001b[0m\u001b[0m_FallbackException\u001b[0m\u001b[0;34m:\u001b[0m\u001b[0;34m\u001b[0m\u001b[0m\n\u001b[1;32m   1209\u001b[0m       \u001b[0;32mpass\u001b[0m\u001b[0;34m\u001b[0m\u001b[0m\n",
      "\u001b[0;32m~/Projetos/MAC5725/nlp/lib/python3.5/site-packages/tensorflow/python/framework/ops.py\u001b[0m in \u001b[0;36mraise_from_not_ok_status\u001b[0;34m(e, name)\u001b[0m\n\u001b[1;32m   6841\u001b[0m   \u001b[0mmessage\u001b[0m \u001b[0;34m=\u001b[0m \u001b[0me\u001b[0m\u001b[0;34m.\u001b[0m\u001b[0mmessage\u001b[0m \u001b[0;34m+\u001b[0m \u001b[0;34m(\u001b[0m\u001b[0;34m\" name: \"\u001b[0m \u001b[0;34m+\u001b[0m \u001b[0mname\u001b[0m \u001b[0;32mif\u001b[0m \u001b[0mname\u001b[0m \u001b[0;32mis\u001b[0m \u001b[0;32mnot\u001b[0m \u001b[0;32mNone\u001b[0m \u001b[0;32melse\u001b[0m \u001b[0;34m\"\"\u001b[0m\u001b[0;34m)\u001b[0m\u001b[0;34m\u001b[0m\u001b[0m\n\u001b[1;32m   6842\u001b[0m   \u001b[0;31m# pylint: disable=protected-access\u001b[0m\u001b[0;34m\u001b[0m\u001b[0;34m\u001b[0m\u001b[0m\n\u001b[0;32m-> 6843\u001b[0;31m   \u001b[0msix\u001b[0m\u001b[0;34m.\u001b[0m\u001b[0mraise_from\u001b[0m\u001b[0;34m(\u001b[0m\u001b[0mcore\u001b[0m\u001b[0;34m.\u001b[0m\u001b[0m_status_to_exception\u001b[0m\u001b[0;34m(\u001b[0m\u001b[0me\u001b[0m\u001b[0;34m.\u001b[0m\u001b[0mcode\u001b[0m\u001b[0;34m,\u001b[0m \u001b[0mmessage\u001b[0m\u001b[0;34m)\u001b[0m\u001b[0;34m,\u001b[0m \u001b[0;32mNone\u001b[0m\u001b[0;34m)\u001b[0m\u001b[0;34m\u001b[0m\u001b[0m\n\u001b[0m\u001b[1;32m   6844\u001b[0m   \u001b[0;31m# pylint: enable=protected-access\u001b[0m\u001b[0;34m\u001b[0m\u001b[0;34m\u001b[0m\u001b[0m\n\u001b[1;32m   6845\u001b[0m \u001b[0;34m\u001b[0m\u001b[0m\n",
      "\u001b[0;32m~/Projetos/MAC5725/nlp/lib/python3.5/site-packages/six.py\u001b[0m in \u001b[0;36mraise_from\u001b[0;34m(value, from_value)\u001b[0m\n",
      "\u001b[0;31mInvalidArgumentError\u001b[0m: ConcatOp : Dimensions of inputs should match: shape[0] = [32,1,256] vs. shape[1] = [32,50,100] [Op:ConcatV2] name: concat"
     ]
    }
   ],
   "source": []
  },
  {
   "cell_type": "code",
   "execution_count": 53,
   "metadata": {},
   "outputs": [
    {
     "name": "stdout",
     "output_type": "stream",
     "text": [
      "Decoder output shape: (batch_size, vocab size) (16, 15352)\n"
     ]
    }
   ],
   "source": [
    "class PGDecoder(tf.keras.Model):\n",
    "    def __init__(self, vocab_size, embedding_layer, dec_units, batch_sz, vocab):\n",
    "        super(PGDecoder, self).__init__()\n",
    "        self.batch_sz = batch_sz\n",
    "        self.dec_units = dec_units\n",
    "        self.embedding = embedding_layer\n",
    "        self.gru = tf.keras.layers.RNN(tf.keras.layers.GRUCell(self.dec_units),\n",
    "                                        return_sequences=True,\n",
    "                                        return_state=True)\n",
    "        self.fc = tf.keras.layers.Dense(vocab_size)\n",
    "        # used for attention\n",
    "        self.attention = BahdanauAttention(self.dec_units)\n",
    "        # p gen layer\n",
    "        self.p_gen_layer = tf.keras.layers.Dense(1, activation='sigmoid')\n",
    "        self.vocab = vocab\n",
    "        self.n_vocab = len(self.vocab)\n",
    "        self.indexes = []\n",
    "        self.n_extended_vocab = self.n_vocab\n",
    "        self.batch_extended_vocab = self.vocab.copy()\n",
    "\n",
    "    def call(self, x, hidden, enc_output, batch_input_words):\n",
    "        #self.indexes = self.extend_vocab(batch_input_words)\n",
    "        #print(indexes)\n",
    "        # enc_output shape == (batch_size, max_length, hidden_size)\n",
    "        context_vector, attention_weights = self.attention(hidden, enc_output)\n",
    "        #print(attention_weights.shape)\n",
    "        #print(context_vector.shape)\n",
    "        # x shape after passing through embedding == (batch_size, 1, embedding_dim)\n",
    "        x = self.embedding(x)\n",
    "        #print(x.shape)\n",
    "        # x shape after concatenation == (batch_size, 1, embedding_dim + hidden_size)\n",
    "        x = tf.concat([tf.expand_dims(context_vector, 1), x], axis=-1)\n",
    "        # passing the concatenated vector to the GRU\n",
    "        output, state = self.gru(x)\n",
    "        # generating probability\n",
    "        # pgen input size == (batch_size, 1, state_size + embedding_dim + hidden_size)\n",
    "        pgen = self.p_gen_layer(tf.concat([tf.expand_dims(state, 1), x], axis=-1))\n",
    "        #print(pgen.shape)\n",
    "        pgen = tf.reshape(pgen, (-1, pgen.shape[2]))\n",
    "        #print(pgen.shape, pgen[0].numpy())\n",
    "        # output shape == (batch_size * 1, hidden_size)\n",
    "        output = tf.reshape(output, (-1, output.shape[2]))\n",
    "        # output shape == (batch_size, vocab)\n",
    "        x = self.fc(output)\n",
    "        #print(x.shape)\n",
    "        x = tf.math.multiply(pgen, x)\n",
    "        #print(x.shape)\n",
    "        # extend x to extended vocab\n",
    "        x = tf.concat([x,tf.zeros([self.batch_sz, self.n_extended_vocab - self.n_vocab])], 1)\n",
    "        #print(x.shape)\n",
    "        #print(x[0][2].numpy(), x[0][15365].numpy())\n",
    "        #print(self.tokenized_batch_input_extended_vocab[12][:].numpy(), batch_input_words[12])\n",
    "        attention_sum = tf.zeros([self.batch_sz, self.n_extended_vocab])\n",
    "        for i in self.indexes:\n",
    "            #print(tf.where(tf.math.equal(self.tokenized_batch_input_extended_vocab, i)))\n",
    "            for pos in tf.where(tf.math.equal(self.tokenized_batch_input_extended_vocab, i)):\n",
    "                #print(pos)\n",
    "                attention_sum[pos[0]][i] = attention_sum[pos[0]][i] + (1 - pgen[pos[0]]) * attention_weights[pos[0]][pos[1]][0]\n",
    "        #print(x.shape, attention_sum.shape)\n",
    "        #print(attention_sum[12][15363], attention_sum[12][37])\n",
    "        x = x + tf.convert_to_tensor(attention_sum, dtype=tf.dtypes.float32)\n",
    "        return x, state, attention_weights, self.batch_extended_vocab\n",
    "\n",
    "    def split_batch_input(self, max_tokens, batch):\n",
    "        out = []\n",
    "        for x in batch:\n",
    "            #print(x)\n",
    "            x_list = x.split()[:max_tokens]\n",
    "            out.append(x_list)\n",
    "        return out\n",
    "\n",
    "    def tokenize_and_pad_with_extended_vocab(self, extended_vocab, batch_words, max_tokens):\n",
    "        to_out = []\n",
    "        indexes = []\n",
    "        for word_list in batch_words:\n",
    "            token_list = []\n",
    "            for word in word_list:\n",
    "                token_list.append(extended_vocab[word])\n",
    "                if(extended_vocab[word] not in indexes):\n",
    "                    indexes.append(extended_vocab[word])\n",
    "            size = len(token_list)\n",
    "            if(size < max_tokens):\n",
    "                for i in range(max_tokens - size):\n",
    "                    token_list.append(0)\n",
    "            to_out.append(token_list)\n",
    "        return tf.convert_to_tensor(to_out), indexes\n",
    "\n",
    "    def extend_vocab(self, batch_input_sentences, batch_output_sentences):\n",
    "        batch_input_words = self.split_batch_input(MAXTOKENS_NL, batch_input_sentences)\n",
    "        self.batch_extended_vocab = self.vocab.copy()\n",
    "        i = self.n_vocab\n",
    "        for j in range(len(batch_input_words)):\n",
    "            for word in batch_input_words[j]:\n",
    "                if(word not in self.batch_extended_vocab):\n",
    "                    self.batch_extended_vocab[word] = i\n",
    "                    i = i + 1\n",
    "        self.n_extended_vocab = len(self.batch_extended_vocab)\n",
    "        self.tokenized_batch_input_extended_vocab, self.indexes = self.tokenize_and_pad_with_extended_vocab(self.batch_extended_vocab, batch_input_words, MAXTOKENS_NL)\n",
    "        batch_output_words = self.split_batch_input(MAXTOKENS_SL, batch_output_sentences)\n",
    "        tokenized_batch_output_extended_vocab, _ = self.tokenize_and_pad_with_extended_vocab(self.batch_extended_vocab, batch_output_words, MAXTOKENS_SL)\n",
    "        return tokenized_batch_output_extended_vocab\n",
    "\n",
    "# decoder\n",
    "a = 12\n",
    "example_input_batch = x_val[a:a+BATCH_SIZE]\n",
    "decoder = PGDecoder(VOCAB_SIZE, embedding_layer, 2*units, BATCH_SIZE, vocab_dict)\n",
    "sample_decoder_output, _, _, extended_vocab = decoder(tf.random.uniform((BATCH_SIZE, 1)), forward_backward_h, sample_output, example_input_batch)\n",
    "print ('Decoder output shape: (batch_size, vocab size) {}'.format(sample_decoder_output.shape))\n"
   ]
  },
  {
   "cell_type": "code",
   "execution_count": 54,
   "metadata": {},
   "outputs": [],
   "source": [
    "optimizer = tf.keras.optimizers.Adam()\n",
    "loss_object = tf.keras.losses.SparseCategoricalCrossentropy(from_logits=True, reduction='none')\n",
    "\n",
    "def loss_function(real, pred):\n",
    "    mask = tf.math.logical_not(tf.math.equal(real, 0))\n",
    "    loss_ = loss_object(real, pred)\n",
    "    mask = tf.cast(mask, dtype=loss_.dtype)\n",
    "    loss_ *= mask\n",
    "    mask2 = tf.cast(mask, dtype=tf.int32)\n",
    "    predicted_ids = tf.argmax(pred, axis=1)\n",
    "    matches = tf.cast(tf.math.equal(real, predicted_ids), dtype=tf.int32)\n",
    "    matches *= mask2\n",
    "    return tf.reduce_mean(loss_), tf.reduce_sum(matches)"
   ]
  },
  {
   "cell_type": "code",
   "execution_count": 55,
   "metadata": {},
   "outputs": [],
   "source": [
    "checkpoint_dir = './training_checkpoints'\n",
    "checkpoint_prefix = os.path.join(checkpoint_dir, \"ckpt\")\n",
    "checkpoint = tf.train.Checkpoint(optimizer=optimizer,\n",
    "                                 encoder=encoder,\n",
    "                                 decoder=decoder)"
   ]
  },
  {
   "cell_type": "code",
   "execution_count": 56,
   "metadata": {},
   "outputs": [],
   "source": [
    "@tf.function\n",
    "def train_step(inp, targ, enc_hidden, inp_txt, targ_txt):\n",
    "    loss = 0\n",
    "    matches = 0\n",
    "    with tf.GradientTape() as tape:\n",
    "        enc_output, enc_forward_h, enc_forward_c, enc_backward_h, enc_backward_c = encoder(inp, enc_hidden)\n",
    "        dec_hidden = Concatenate(axis=1)([enc_forward_h, enc_backward_h])\n",
    "        dec_input = tf.expand_dims([word_index['[ini-sl]']] * BATCH_SIZE, 1)\n",
    "        #print(dec_input.shape, dec_hidden.shape)\n",
    "        # Teacher forcing - feeding the target as the next input\n",
    "        #print(targ.shape[1])\n",
    "        extended_targ = decoder.extend_vocab(inp_txt, targ_txt)\n",
    "        for t in range(1, extended_targ.shape[1]):\n",
    "            #print(dec_hidden.shape)\n",
    "            # passing enc_output to the decoder\n",
    "            predictions, dec_hidden, _, _ = decoder(dec_input, dec_hidden, enc_output, inp_txt)\n",
    "            new_loss, new_matches = loss_function(extended_targ[:, t], predictions)\n",
    "            loss += new_loss\n",
    "            matches += new_matches\n",
    "            #print(tf.cast(tf.math.equal(targ[:, t], predicted_ids), dtype=tf.int32))\n",
    "            #print(matches)\n",
    "            # using teacher forcing\n",
    "            dec_input = tf.expand_dims(extended_targ[:, t], 1)\n",
    "    batch_loss = (loss / int(targ.shape[1]))\n",
    "    variables = encoder.trainable_variables + decoder.trainable_variables\n",
    "    gradients = tape.gradient(loss, variables)\n",
    "    optimizer.apply_gradients(zip(gradients, variables))\n",
    "    return batch_loss, matches\n",
    "\n",
    "@tf.function\n",
    "def validation_step(inp, targ, enc_hidden, inp_txt, targ_txt):\n",
    "    loss = 0\n",
    "    enc_output, enc_forward_h, enc_forward_c, enc_backward_h, enc_backward_c = encoder(inp, enc_hidden)\n",
    "    dec_hidden = Concatenate(axis=1)([enc_forward_h, enc_backward_h])\n",
    "    dec_input = tf.expand_dims([word_index['[ini-sl]']] * BATCH_SIZE, 1)\n",
    "    matches = 0\n",
    "    #print(dec_input.shape, dec_hidden.shape)\n",
    "    extended_targ = decoder.extend_vocab(inp_txt, targ_txt)\n",
    "    # Teacher forcing - feeding the target as the next input\n",
    "    for t in range(1, extended_targ.shape[1]):\n",
    "        #print(dec_hidden.shape)\n",
    "        # passing enc_output to the decoder\n",
    "        predictions, dec_hidden, _, _ = decoder(dec_input, dec_hidden, enc_output, inp_txt)\n",
    "        new_loss, new_matches = loss_function(extended_targ[:, t], predictions)\n",
    "        loss += new_loss\n",
    "        matches += new_matches\n",
    "        # using teacher forcing\n",
    "        dec_input = tf.expand_dims(extended_targ[:, t], 1)\n",
    "    batch_loss = (loss / int(targ.shape[1]))\n",
    "    return batch_loss, matches"
   ]
  },
  {
   "cell_type": "code",
   "execution_count": 57,
   "metadata": {},
   "outputs": [
    {
     "name": "stdout",
     "output_type": "stream",
     "text": [
      "35279 6214\n"
     ]
    },
    {
     "ename": "TypeError",
     "evalue": "in user code:\n\n    <ipython-input-51-2b95807fdaa6>:16 train_step  *\n        predictions, dec_hidden, _, _ = decoder(dec_input, dec_hidden, enc_output, inp_txt)\n    <ipython-input-53-1a21e30d2633>:58 call  *\n        attention_sum[pos[0]][i] = attention_sum[pos[0]][i] + (1 - pgen[pos[0]]) * attention_weights[pos[0]][pos[1]][0]\n\n    TypeError: 'Tensor' object does not support item assignment\n",
     "output_type": "error",
     "traceback": [
      "\u001b[0;31m---------------------------------------------------------------------------\u001b[0m",
      "\u001b[0;31mTypeError\u001b[0m                                 Traceback (most recent call last)",
      "\u001b[0;32m<ipython-input-57-5eab0534ff19>\u001b[0m in \u001b[0;36m<module>\u001b[0;34m\u001b[0m\n\u001b[1;32m     19\u001b[0m         \u001b[0;31m#print(len(x_train[(batch*16):(batch*16)+16]), targ_txt[(batch*16):(batch*16)+16])\u001b[0m\u001b[0;34m\u001b[0m\u001b[0;34m\u001b[0m\u001b[0m\n\u001b[1;32m     20\u001b[0m         \u001b[0;31m#print(inp.shape, targ.shape)\u001b[0m\u001b[0;34m\u001b[0m\u001b[0;34m\u001b[0m\u001b[0m\n\u001b[0;32m---> 21\u001b[0;31m         \u001b[0mbatch_loss\u001b[0m\u001b[0;34m,\u001b[0m \u001b[0mnew_matches\u001b[0m \u001b[0;34m=\u001b[0m \u001b[0mtrain_step\u001b[0m\u001b[0;34m(\u001b[0m\u001b[0minp\u001b[0m\u001b[0;34m,\u001b[0m \u001b[0mtarg\u001b[0m\u001b[0;34m,\u001b[0m \u001b[0menc_hidden\u001b[0m\u001b[0;34m,\u001b[0m \u001b[0mx_train\u001b[0m\u001b[0;34m[\u001b[0m\u001b[0;34m(\u001b[0m\u001b[0mbatch\u001b[0m\u001b[0;34m*\u001b[0m\u001b[0;36m16\u001b[0m\u001b[0;34m)\u001b[0m\u001b[0;34m:\u001b[0m\u001b[0;34m(\u001b[0m\u001b[0mbatch\u001b[0m\u001b[0;34m*\u001b[0m\u001b[0;36m16\u001b[0m\u001b[0;34m)\u001b[0m\u001b[0;34m+\u001b[0m\u001b[0;36m16\u001b[0m\u001b[0;34m]\u001b[0m\u001b[0;34m,\u001b[0m \u001b[0my_train\u001b[0m\u001b[0;34m[\u001b[0m\u001b[0;34m(\u001b[0m\u001b[0mbatch\u001b[0m\u001b[0;34m*\u001b[0m\u001b[0;36m16\u001b[0m\u001b[0;34m)\u001b[0m\u001b[0;34m:\u001b[0m\u001b[0;34m(\u001b[0m\u001b[0mbatch\u001b[0m\u001b[0;34m*\u001b[0m\u001b[0;36m16\u001b[0m\u001b[0;34m)\u001b[0m\u001b[0;34m+\u001b[0m\u001b[0;36m16\u001b[0m\u001b[0;34m]\u001b[0m\u001b[0;34m)\u001b[0m\u001b[0;34m\u001b[0m\u001b[0m\n\u001b[0m\u001b[1;32m     22\u001b[0m         \u001b[0mtrain_matches\u001b[0m \u001b[0;34m=\u001b[0m \u001b[0mtrain_matches\u001b[0m \u001b[0;34m+\u001b[0m \u001b[0mnew_matches\u001b[0m\u001b[0;34m.\u001b[0m\u001b[0mnumpy\u001b[0m\u001b[0;34m(\u001b[0m\u001b[0;34m)\u001b[0m\u001b[0;34m\u001b[0m\u001b[0m\n\u001b[1;32m     23\u001b[0m         \u001b[0mtotal_loss\u001b[0m \u001b[0;34m+=\u001b[0m \u001b[0mbatch_loss\u001b[0m\u001b[0;34m\u001b[0m\u001b[0m\n",
      "\u001b[0;32m~/Projetos/MAC5725/nlp/lib/python3.5/site-packages/tensorflow/python/eager/def_function.py\u001b[0m in \u001b[0;36m__call__\u001b[0;34m(self, *args, **kwds)\u001b[0m\n\u001b[1;32m    778\u001b[0m       \u001b[0;32melse\u001b[0m\u001b[0;34m:\u001b[0m\u001b[0;34m\u001b[0m\u001b[0m\n\u001b[1;32m    779\u001b[0m         \u001b[0mcompiler\u001b[0m \u001b[0;34m=\u001b[0m \u001b[0;34m\"nonXla\"\u001b[0m\u001b[0;34m\u001b[0m\u001b[0m\n\u001b[0;32m--> 780\u001b[0;31m         \u001b[0mresult\u001b[0m \u001b[0;34m=\u001b[0m \u001b[0mself\u001b[0m\u001b[0;34m.\u001b[0m\u001b[0m_call\u001b[0m\u001b[0;34m(\u001b[0m\u001b[0;34m*\u001b[0m\u001b[0margs\u001b[0m\u001b[0;34m,\u001b[0m \u001b[0;34m**\u001b[0m\u001b[0mkwds\u001b[0m\u001b[0;34m)\u001b[0m\u001b[0;34m\u001b[0m\u001b[0m\n\u001b[0m\u001b[1;32m    781\u001b[0m \u001b[0;34m\u001b[0m\u001b[0m\n\u001b[1;32m    782\u001b[0m       \u001b[0mnew_tracing_count\u001b[0m \u001b[0;34m=\u001b[0m \u001b[0mself\u001b[0m\u001b[0;34m.\u001b[0m\u001b[0m_get_tracing_count\u001b[0m\u001b[0;34m(\u001b[0m\u001b[0;34m)\u001b[0m\u001b[0;34m\u001b[0m\u001b[0m\n",
      "\u001b[0;32m~/Projetos/MAC5725/nlp/lib/python3.5/site-packages/tensorflow/python/eager/def_function.py\u001b[0m in \u001b[0;36m_call\u001b[0;34m(self, *args, **kwds)\u001b[0m\n\u001b[1;32m    821\u001b[0m       \u001b[0;31m# This is the first call of __call__, so we have to initialize.\u001b[0m\u001b[0;34m\u001b[0m\u001b[0;34m\u001b[0m\u001b[0m\n\u001b[1;32m    822\u001b[0m       \u001b[0minitializers\u001b[0m \u001b[0;34m=\u001b[0m \u001b[0;34m[\u001b[0m\u001b[0;34m]\u001b[0m\u001b[0;34m\u001b[0m\u001b[0m\n\u001b[0;32m--> 823\u001b[0;31m       \u001b[0mself\u001b[0m\u001b[0;34m.\u001b[0m\u001b[0m_initialize\u001b[0m\u001b[0;34m(\u001b[0m\u001b[0margs\u001b[0m\u001b[0;34m,\u001b[0m \u001b[0mkwds\u001b[0m\u001b[0;34m,\u001b[0m \u001b[0madd_initializers_to\u001b[0m\u001b[0;34m=\u001b[0m\u001b[0minitializers\u001b[0m\u001b[0;34m)\u001b[0m\u001b[0;34m\u001b[0m\u001b[0m\n\u001b[0m\u001b[1;32m    824\u001b[0m     \u001b[0;32mfinally\u001b[0m\u001b[0;34m:\u001b[0m\u001b[0;34m\u001b[0m\u001b[0m\n\u001b[1;32m    825\u001b[0m       \u001b[0;31m# At this point we know that the initialization is complete (or less\u001b[0m\u001b[0;34m\u001b[0m\u001b[0;34m\u001b[0m\u001b[0m\n",
      "\u001b[0;32m~/Projetos/MAC5725/nlp/lib/python3.5/site-packages/tensorflow/python/eager/def_function.py\u001b[0m in \u001b[0;36m_initialize\u001b[0;34m(self, args, kwds, add_initializers_to)\u001b[0m\n\u001b[1;32m    695\u001b[0m     self._concrete_stateful_fn = (\n\u001b[1;32m    696\u001b[0m         self._stateful_fn._get_concrete_function_internal_garbage_collected(  # pylint: disable=protected-access\n\u001b[0;32m--> 697\u001b[0;31m             *args, **kwds))\n\u001b[0m\u001b[1;32m    698\u001b[0m \u001b[0;34m\u001b[0m\u001b[0m\n\u001b[1;32m    699\u001b[0m     \u001b[0;32mdef\u001b[0m \u001b[0minvalid_creator_scope\u001b[0m\u001b[0;34m(\u001b[0m\u001b[0;34m*\u001b[0m\u001b[0munused_args\u001b[0m\u001b[0;34m,\u001b[0m \u001b[0;34m**\u001b[0m\u001b[0munused_kwds\u001b[0m\u001b[0;34m)\u001b[0m\u001b[0;34m:\u001b[0m\u001b[0;34m\u001b[0m\u001b[0m\n",
      "\u001b[0;32m~/Projetos/MAC5725/nlp/lib/python3.5/site-packages/tensorflow/python/eager/function.py\u001b[0m in \u001b[0;36m_get_concrete_function_internal_garbage_collected\u001b[0;34m(self, *args, **kwargs)\u001b[0m\n\u001b[1;32m   2853\u001b[0m       \u001b[0margs\u001b[0m\u001b[0;34m,\u001b[0m \u001b[0mkwargs\u001b[0m \u001b[0;34m=\u001b[0m \u001b[0;32mNone\u001b[0m\u001b[0;34m,\u001b[0m \u001b[0;32mNone\u001b[0m\u001b[0;34m\u001b[0m\u001b[0m\n\u001b[1;32m   2854\u001b[0m     \u001b[0;32mwith\u001b[0m \u001b[0mself\u001b[0m\u001b[0;34m.\u001b[0m\u001b[0m_lock\u001b[0m\u001b[0;34m:\u001b[0m\u001b[0;34m\u001b[0m\u001b[0m\n\u001b[0;32m-> 2855\u001b[0;31m       \u001b[0mgraph_function\u001b[0m\u001b[0;34m,\u001b[0m \u001b[0m_\u001b[0m\u001b[0;34m,\u001b[0m \u001b[0m_\u001b[0m \u001b[0;34m=\u001b[0m \u001b[0mself\u001b[0m\u001b[0;34m.\u001b[0m\u001b[0m_maybe_define_function\u001b[0m\u001b[0;34m(\u001b[0m\u001b[0margs\u001b[0m\u001b[0;34m,\u001b[0m \u001b[0mkwargs\u001b[0m\u001b[0;34m)\u001b[0m\u001b[0;34m\u001b[0m\u001b[0m\n\u001b[0m\u001b[1;32m   2856\u001b[0m     \u001b[0;32mreturn\u001b[0m \u001b[0mgraph_function\u001b[0m\u001b[0;34m\u001b[0m\u001b[0m\n\u001b[1;32m   2857\u001b[0m \u001b[0;34m\u001b[0m\u001b[0m\n",
      "\u001b[0;32m~/Projetos/MAC5725/nlp/lib/python3.5/site-packages/tensorflow/python/eager/function.py\u001b[0m in \u001b[0;36m_maybe_define_function\u001b[0;34m(self, args, kwargs)\u001b[0m\n\u001b[1;32m   3211\u001b[0m \u001b[0;34m\u001b[0m\u001b[0m\n\u001b[1;32m   3212\u001b[0m       \u001b[0mself\u001b[0m\u001b[0;34m.\u001b[0m\u001b[0m_function_cache\u001b[0m\u001b[0;34m.\u001b[0m\u001b[0mmissed\u001b[0m\u001b[0;34m.\u001b[0m\u001b[0madd\u001b[0m\u001b[0;34m(\u001b[0m\u001b[0mcall_context_key\u001b[0m\u001b[0;34m)\u001b[0m\u001b[0;34m\u001b[0m\u001b[0m\n\u001b[0;32m-> 3213\u001b[0;31m       \u001b[0mgraph_function\u001b[0m \u001b[0;34m=\u001b[0m \u001b[0mself\u001b[0m\u001b[0;34m.\u001b[0m\u001b[0m_create_graph_function\u001b[0m\u001b[0;34m(\u001b[0m\u001b[0margs\u001b[0m\u001b[0;34m,\u001b[0m \u001b[0mkwargs\u001b[0m\u001b[0;34m)\u001b[0m\u001b[0;34m\u001b[0m\u001b[0m\n\u001b[0m\u001b[1;32m   3214\u001b[0m       \u001b[0mself\u001b[0m\u001b[0;34m.\u001b[0m\u001b[0m_function_cache\u001b[0m\u001b[0;34m.\u001b[0m\u001b[0mprimary\u001b[0m\u001b[0;34m[\u001b[0m\u001b[0mcache_key\u001b[0m\u001b[0;34m]\u001b[0m \u001b[0;34m=\u001b[0m \u001b[0mgraph_function\u001b[0m\u001b[0;34m\u001b[0m\u001b[0m\n\u001b[1;32m   3215\u001b[0m       \u001b[0;32mreturn\u001b[0m \u001b[0mgraph_function\u001b[0m\u001b[0;34m,\u001b[0m \u001b[0margs\u001b[0m\u001b[0;34m,\u001b[0m \u001b[0mkwargs\u001b[0m\u001b[0;34m\u001b[0m\u001b[0m\n",
      "\u001b[0;32m~/Projetos/MAC5725/nlp/lib/python3.5/site-packages/tensorflow/python/eager/function.py\u001b[0m in \u001b[0;36m_create_graph_function\u001b[0;34m(self, args, kwargs, override_flat_arg_shapes)\u001b[0m\n\u001b[1;32m   3073\u001b[0m             \u001b[0marg_names\u001b[0m\u001b[0;34m=\u001b[0m\u001b[0marg_names\u001b[0m\u001b[0;34m,\u001b[0m\u001b[0;34m\u001b[0m\u001b[0m\n\u001b[1;32m   3074\u001b[0m             \u001b[0moverride_flat_arg_shapes\u001b[0m\u001b[0;34m=\u001b[0m\u001b[0moverride_flat_arg_shapes\u001b[0m\u001b[0;34m,\u001b[0m\u001b[0;34m\u001b[0m\u001b[0m\n\u001b[0;32m-> 3075\u001b[0;31m             capture_by_value=self._capture_by_value),\n\u001b[0m\u001b[1;32m   3076\u001b[0m         \u001b[0mself\u001b[0m\u001b[0;34m.\u001b[0m\u001b[0m_function_attributes\u001b[0m\u001b[0;34m,\u001b[0m\u001b[0;34m\u001b[0m\u001b[0m\n\u001b[1;32m   3077\u001b[0m         \u001b[0mfunction_spec\u001b[0m\u001b[0;34m=\u001b[0m\u001b[0mself\u001b[0m\u001b[0;34m.\u001b[0m\u001b[0mfunction_spec\u001b[0m\u001b[0;34m,\u001b[0m\u001b[0;34m\u001b[0m\u001b[0m\n",
      "\u001b[0;32m~/Projetos/MAC5725/nlp/lib/python3.5/site-packages/tensorflow/python/framework/func_graph.py\u001b[0m in \u001b[0;36mfunc_graph_from_py_func\u001b[0;34m(name, python_func, args, kwargs, signature, func_graph, autograph, autograph_options, add_control_dependencies, arg_names, op_return_value, collections, capture_by_value, override_flat_arg_shapes)\u001b[0m\n\u001b[1;32m    984\u001b[0m         \u001b[0m_\u001b[0m\u001b[0;34m,\u001b[0m \u001b[0moriginal_func\u001b[0m \u001b[0;34m=\u001b[0m \u001b[0mtf_decorator\u001b[0m\u001b[0;34m.\u001b[0m\u001b[0munwrap\u001b[0m\u001b[0;34m(\u001b[0m\u001b[0mpython_func\u001b[0m\u001b[0;34m)\u001b[0m\u001b[0;34m\u001b[0m\u001b[0m\n\u001b[1;32m    985\u001b[0m \u001b[0;34m\u001b[0m\u001b[0m\n\u001b[0;32m--> 986\u001b[0;31m       \u001b[0mfunc_outputs\u001b[0m \u001b[0;34m=\u001b[0m \u001b[0mpython_func\u001b[0m\u001b[0;34m(\u001b[0m\u001b[0;34m*\u001b[0m\u001b[0mfunc_args\u001b[0m\u001b[0;34m,\u001b[0m \u001b[0;34m**\u001b[0m\u001b[0mfunc_kwargs\u001b[0m\u001b[0;34m)\u001b[0m\u001b[0;34m\u001b[0m\u001b[0m\n\u001b[0m\u001b[1;32m    987\u001b[0m \u001b[0;34m\u001b[0m\u001b[0m\n\u001b[1;32m    988\u001b[0m       \u001b[0;31m# invariant: `func_outputs` contains only Tensors, CompositeTensors,\u001b[0m\u001b[0;34m\u001b[0m\u001b[0;34m\u001b[0m\u001b[0m\n",
      "\u001b[0;32m~/Projetos/MAC5725/nlp/lib/python3.5/site-packages/tensorflow/python/eager/def_function.py\u001b[0m in \u001b[0;36mwrapped_fn\u001b[0;34m(*args, **kwds)\u001b[0m\n\u001b[1;32m    598\u001b[0m         \u001b[0;31m# __wrapped__ allows AutoGraph to swap in a converted function. We give\u001b[0m\u001b[0;34m\u001b[0m\u001b[0;34m\u001b[0m\u001b[0m\n\u001b[1;32m    599\u001b[0m         \u001b[0;31m# the function a weak reference to itself to avoid a reference cycle.\u001b[0m\u001b[0;34m\u001b[0m\u001b[0;34m\u001b[0m\u001b[0m\n\u001b[0;32m--> 600\u001b[0;31m         \u001b[0;32mreturn\u001b[0m \u001b[0mweak_wrapped_fn\u001b[0m\u001b[0;34m(\u001b[0m\u001b[0;34m)\u001b[0m\u001b[0;34m.\u001b[0m\u001b[0m__wrapped__\u001b[0m\u001b[0;34m(\u001b[0m\u001b[0;34m*\u001b[0m\u001b[0margs\u001b[0m\u001b[0;34m,\u001b[0m \u001b[0;34m**\u001b[0m\u001b[0mkwds\u001b[0m\u001b[0;34m)\u001b[0m\u001b[0;34m\u001b[0m\u001b[0m\n\u001b[0m\u001b[1;32m    601\u001b[0m     \u001b[0mweak_wrapped_fn\u001b[0m \u001b[0;34m=\u001b[0m \u001b[0mweakref\u001b[0m\u001b[0;34m.\u001b[0m\u001b[0mref\u001b[0m\u001b[0;34m(\u001b[0m\u001b[0mwrapped_fn\u001b[0m\u001b[0;34m)\u001b[0m\u001b[0;34m\u001b[0m\u001b[0m\n\u001b[1;32m    602\u001b[0m \u001b[0;34m\u001b[0m\u001b[0m\n",
      "\u001b[0;32m~/Projetos/MAC5725/nlp/lib/python3.5/site-packages/tensorflow/python/framework/func_graph.py\u001b[0m in \u001b[0;36mwrapper\u001b[0;34m(*args, **kwargs)\u001b[0m\n\u001b[1;32m    971\u001b[0m           \u001b[0;32mexcept\u001b[0m \u001b[0mException\u001b[0m \u001b[0;32mas\u001b[0m \u001b[0me\u001b[0m\u001b[0;34m:\u001b[0m  \u001b[0;31m# pylint:disable=broad-except\u001b[0m\u001b[0;34m\u001b[0m\u001b[0m\n\u001b[1;32m    972\u001b[0m             \u001b[0;32mif\u001b[0m \u001b[0mhasattr\u001b[0m\u001b[0;34m(\u001b[0m\u001b[0me\u001b[0m\u001b[0;34m,\u001b[0m \u001b[0;34m\"ag_error_metadata\"\u001b[0m\u001b[0;34m)\u001b[0m\u001b[0;34m:\u001b[0m\u001b[0;34m\u001b[0m\u001b[0m\n\u001b[0;32m--> 973\u001b[0;31m               \u001b[0;32mraise\u001b[0m \u001b[0me\u001b[0m\u001b[0;34m.\u001b[0m\u001b[0mag_error_metadata\u001b[0m\u001b[0;34m.\u001b[0m\u001b[0mto_exception\u001b[0m\u001b[0;34m(\u001b[0m\u001b[0me\u001b[0m\u001b[0;34m)\u001b[0m\u001b[0;34m\u001b[0m\u001b[0m\n\u001b[0m\u001b[1;32m    974\u001b[0m             \u001b[0;32melse\u001b[0m\u001b[0;34m:\u001b[0m\u001b[0;34m\u001b[0m\u001b[0m\n\u001b[1;32m    975\u001b[0m               \u001b[0;32mraise\u001b[0m\u001b[0;34m\u001b[0m\u001b[0m\n",
      "\u001b[0;31mTypeError\u001b[0m: in user code:\n\n    <ipython-input-51-2b95807fdaa6>:16 train_step  *\n        predictions, dec_hidden, _, _ = decoder(dec_input, dec_hidden, enc_output, inp_txt)\n    <ipython-input-53-1a21e30d2633>:58 call  *\n        attention_sum[pos[0]][i] = attention_sum[pos[0]][i] + (1 - pgen[pos[0]]) * attention_weights[pos[0]][pos[1]][0]\n\n    TypeError: 'Tensor' object does not support item assignment\n"
     ]
    }
   ],
   "source": [
    "N_WORDS_IN_OUTPUT_TRAIN = 0\n",
    "for sentence in y_train:\n",
    "    N_WORDS_IN_OUTPUT_TRAIN = N_WORDS_IN_OUTPUT_TRAIN + len(sentence.split()) - 2 # retirando tokens especiais [INI-SL] e [END-SL]\n",
    "N_WORDS_IN_OUTPUT_VAL = 0\n",
    "for sentence in y_val:\n",
    "    N_WORDS_IN_OUTPUT_VAL = N_WORDS_IN_OUTPUT_VAL + len(sentence.split()) - 2 # retirando tokens especiais [INI-SL] e [END-SL]\n",
    "print(N_WORDS_IN_OUTPUT_TRAIN, N_WORDS_IN_OUTPUT_VAL)\n",
    "\n",
    "EPOCHS = 20\n",
    "rouge = None\n",
    "best_val_acc = 0.\n",
    "history = {'epochs' : EPOCHS, 'train_loss':[], 'train_acc':[], 'val_loss':[], 'val_acc':[]}\n",
    "for epoch in range(EPOCHS):\n",
    "    start = time.time()\n",
    "    enc_hidden = encoder.initialize_hidden_state()\n",
    "    total_loss = 0\n",
    "    train_matches = 0.\n",
    "    for (batch, (inp, targ)) in enumerate(dataset_train.take(steps_per_epoch_train)):\n",
    "        #print(len(x_train[(batch*16):(batch*16)+16]), targ_txt[(batch*16):(batch*16)+16])\n",
    "        #print(inp.shape, targ.shape)\n",
    "        batch_loss, new_matches = train_step(inp, targ, enc_hidden, x_train[(batch*16):(batch*16)+16], y_train[(batch*16):(batch*16)+16])\n",
    "        train_matches = train_matches + new_matches.numpy()\n",
    "        total_loss += batch_loss\n",
    "        if batch % 100 == 0:\n",
    "            print('Epoch {} Batch {} Loss {:.4f}'.format(epoch + 1,\n",
    "                                                        batch,\n",
    "                                                        batch_loss.numpy()))\n",
    "    total_loss_val = 0\n",
    "    val_loss = 0\n",
    "    validation_matches = 0.\n",
    "    for (batch, (inp, targ)) in enumerate(dataset_val.take(steps_per_epoch_val)):\n",
    "        batch_loss, new_matches = validation_step(inp, targ, enc_hidden, x_train[(batch*16):(batch*16)+16], y_train[(batch*16):(batch*16)+16])\n",
    "        validation_matches = validation_matches + new_matches.numpy()\n",
    "        total_loss_val += batch_loss\n",
    "    # save checkpoint if acc in validation is better\n",
    "    train_acc = train_matches / N_WORDS_IN_OUTPUT_TRAIN\n",
    "    val_acc = validation_matches / N_WORDS_IN_OUTPUT_VAL\n",
    "    if (val_acc > best_val_acc): # salvar apenas se o modelo tiver acuracia melhor na validacao\n",
    "        print('Salving model with better validation accuracy: new acc. ({:.4f}) > last acc. ({:.4f})'.format(val_acc, best_val_acc))\n",
    "        best_val_acc = val_acc\n",
    "        checkpoint.save(file_prefix = checkpoint_prefix)\n",
    "    print('Epoch {} | TRAIN: Loss {:.4f} Acc {:.4f} | VALIDATION: Loss {:.4f} Acc {:.4f}'.format(epoch + 1,\n",
    "                                        total_loss / steps_per_epoch_train, \n",
    "                                        train_acc,\n",
    "                                        total_loss_val / steps_per_epoch_val, \n",
    "                                        val_acc))\n",
    "    history['train_loss'].append(total_loss / steps_per_epoch_train)\n",
    "    history['train_acc'].append(train_acc)\n",
    "    history['val_loss'].append(total_loss_val / steps_per_epoch_val)\n",
    "    history['val_acc'].append(val_acc)    \n",
    "    print('Time taken for 1 epoch {} sec\\n'.format(time.time() - start))"
   ]
  },
  {
   "cell_type": "code",
   "execution_count": 140,
   "metadata": {},
   "outputs": [
    {
     "data": {
      "image/png": "[encoded data removed]",
      "text/plain": [
       "<Figure size 720x720 with 1 Axes>"
      ]
     },
     "metadata": {
      "needs_background": "light"
     },
     "output_type": "display_data"
    },
    {
     "data": {
      "image/png": "[encoded data removed]",
      "text/plain": [
       "<Figure size 720x720 with 1 Axes>"
      ]
     },
     "metadata": {
      "needs_background": "light"
     },
     "output_type": "display_data"
    }
   ],
   "source": [
    "def plot_loss(history):\n",
    "    plt.figure(figsize=(10, 10))\n",
    "    plt.title('Loss')\n",
    "    plt.plot(history['train_loss'], label='train')\n",
    "    plt.plot(history['val_loss'], label='val')\n",
    "    plt.ylabel('Loss')\n",
    "    plt.xlabel('Épocas')\n",
    "    plt.legend(loc=2)\n",
    "    plt.show()\n",
    "\n",
    "def plot_accuracy(history):\n",
    "    plt.figure(figsize=(10, 10))\n",
    "    plt.title('Acurácia')\n",
    "    plt.plot(history['train_acc'], label='train')\n",
    "    plt.plot(history['val_acc'], label='val')\n",
    "    plt.ylabel('Acurácia')\n",
    "    plt.xlabel('Épocas')\n",
    "    plt.legend(loc=2)\n",
    "    plt.show()\n",
    "\n",
    "plot_loss(history)\n",
    "plot_accuracy(history)"
   ]
  },
  {
   "cell_type": "code",
   "execution_count": 141,
   "metadata": {},
   "outputs": [],
   "source": [
    "# recupera o ultimo modelo LSTM salvo (com a maior acuracia)\n",
    "checkpoint.restore(tf.train.latest_checkpoint(checkpoint_dir))\n",
    "\n",
    "def evaluate(sentence):\n",
    "    attention_plot = np.zeros((MAXTOKENS_SL, MAXTOKENS_NL))\n",
    "    #sentence = data_prep.preprocess_sentence(sentence)\n",
    "    inputs = input_tokenizer_model.predict([sentence])\n",
    "    n_sentences = len(inputs)\n",
    "    inputs = Concatenate(axis=0)([inputs, tf.zeros((BATCH_SIZE - n_sentences, MAXTOKENS_NL), dtype=tf.dtypes.int64)])\n",
    "    #print(inputs.shape)\n",
    "    result = ''\n",
    "    hidden = encoder.initialize_hidden_state()\n",
    "    enc_output, enc_forward_h, enc_forward_c, enc_backward_h, enc_backward_c = encoder(inputs, hidden)\n",
    "    dec_hidden = Concatenate(axis=1)([enc_forward_h, enc_backward_h])\n",
    "    dec_input = tf.expand_dims([word_index['[INI-SL]']] * BATCH_SIZE, 1)\n",
    "    result += '[INI-SL]' + ' '\n",
    "    for t in range(MAXTOKENS_SL):\n",
    "        predictions, dec_hidden, attention_weights = decoder(dec_input,\n",
    "                                                            dec_hidden,\n",
    "                                                            enc_output)\n",
    "        #print(predictions)\n",
    "        # storing the attention weights to plot later on\n",
    "        attention_weights = tf.reshape(attention_weights[0], (-1, ))\n",
    "        attention_plot[t] = attention_weights.numpy()\n",
    "        predicted_id = tf.argmax(predictions[0]).numpy()\n",
    "        result += tokenizer_vocab[predicted_id] + ' '\n",
    "        if tokenizer_vocab[predicted_id] == '[END-SL]':\n",
    "            return result, sentence, attention_plot\n",
    "        # the predicted ID is fed back into the model\n",
    "        dec_input = tf.expand_dims([predicted_id] * BATCH_SIZE, 1)\n",
    "        #print(dec_input.shape)\n",
    "    return result, sentence, attention_plot\n"
   ]
  },
  {
   "cell_type": "code",
   "execution_count": 143,
   "metadata": {},
   "outputs": [
    {
     "name": "stdout",
     "output_type": "stream",
     "text": [
      "Input: \n",
      "[INI-NL] redwood is a census designated place in jefferson county , new york , united states . as of the 2010 census , the area population was 605 . [END-NL]\n",
      "\n",
      "\n",
      "Output: \n",
      "[INI-SL] InstanceOf census designated place [SEP] LocatedInTheAdministrativeTerritorialEntity pierce county [SEP] Country united states [END-SL] \n",
      "\n",
      "\n"
     ]
    }
   ],
   "source": [
    "x = \"[INI-NL] redwood is a census designated place in jefferson county , new york , united states . as of the 2010 census , the area population was 605 . [END-NL]\"\n",
    "structured_language, natural_language, att = evaluate(x)\n",
    "print(\"Input: \\n{}\\n\\n\".format(natural_language))\n",
    "print(\"Output: \\n{}\\n\\n\".format(structured_language))\n"
   ]
  },
  {
   "cell_type": "code",
   "execution_count": null,
   "metadata": {},
   "outputs": [],
   "source": []
  }
 ],
 "metadata": {
  "kernelspec": {
   "display_name": "nlp",
   "language": "python",
   "name": "nlp"
  },
  "language_info": {
   "codemirror_mode": {
    "name": "ipython",
    "version": 3
   },
   "file_extension": ".py",
   "mimetype": "text/x-python",
   "name": "python",
   "nbconvert_exporter": "python",
   "pygments_lexer": "ipython3",
   "version": "3.5.2"
  }
 },
 "nbformat": 4,
 "nbformat_minor": 2
}
